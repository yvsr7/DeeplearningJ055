{
  "nbformat": 4,
  "nbformat_minor": 0,
  "metadata": {
    "colab": {
      "name": "J055_Object-detection.ipynb",
      "provenance": [],
      "collapsed_sections": []
    },
    "kernelspec": {
      "name": "python3",
      "display_name": "Python 3"
    },
    "accelerator": "GPU"
  },
  "cells": [
    {
      "cell_type": "markdown",
      "metadata": {
        "id": "KJrXq8CENPNb",
        "colab_type": "text"
      },
      "source": [
        "Let us first look differentiating among the terms classification, localization and detection. We hear these terms often in the image processing world and these are distinctive to each other in their applications.\n",
        "\n",
        "1. Classification — Refers to identifying if a given object is present inside an image or not. Common example: Cat or no-cat.\n",
        "2. Localization — Refers to not only identifying is a given object is present inside an image, but also distinguishing the object’s location using a bounding box.\n",
        "3. Detection — Simply refers to multiple localizations in a single image."
      ]
    },
    {
      "cell_type": "markdown",
      "metadata": {
        "id": "3MrOVQvbHm4N",
        "colab_type": "text"
      },
      "source": [
        "#YOLO: Real-Time Object Detection\n",
        "\n",
        "You only look once (YOLO) is a state-of-the-art, real-time object detection system. On a Pascal Titan X it processes images at 30 FPS and has a mAP of 57.9% on COCO test-dev."
      ]
    },
    {
      "cell_type": "markdown",
      "metadata": {
        "id": "IlvA7gjyHwbn",
        "colab_type": "text"
      },
      "source": [
        "#How It Works (By Joseph Redmon - https://pjreddie.com/darknet/yolo/)\n",
        "\n",
        "Prior detection systems repurpose classifiers or localizers to perform detection. They apply the model to an image at multiple locations and scales. High scoring regions of the image are considered detections.\n",
        "\n",
        "We use a totally different approach. We apply a single neural network to the full image. This network divides the image into regions and predicts bounding boxes and probabilities for each region. These bounding boxes are weighted by the predicted probabilities.\n",
        "\n",
        "\n",
        "\n",
        "Our model has several advantages over classifier-based systems. It looks at the whole image at test time so its predictions are informed by global context in the image. It also makes predictions with a single network evaluation unlike systems like R-CNN which require thousands for a single image. This makes it extremely fast, more than 1000x faster than R-CNN and 100x faster than Fast R-CNN. See our paper for more details on the full system.\n",
        "\n",
        "##What's New in Version 3?\n",
        "\n",
        "YOLOv3 uses a few tricks to improve training and increase performance, including: multi-scale predictions, a better backbone classifier, and more."
      ]
    },
    {
      "cell_type": "markdown",
      "metadata": {
        "id": "ukFBA0kWYWWv",
        "colab_type": "text"
      },
      "source": [
        "#Check CUDA release version"
      ]
    },
    {
      "cell_type": "code",
      "metadata": {
        "colab_type": "code",
        "id": "vC0tIOy0hjWc",
        "colab": {}
      },
      "source": [
        "!/usr/local/cuda/bin/nvcc --version\n",
        "\n",
        "\n",
        "!wget http://people.cs.uchicago.edu/~kauffman/nvidia/cudnn/cudnn-10.2-linux-x64-v7.6.5.32.tgz \n",
        "\n",
        "\n",
        "# We're unzipping the cuDNN files from your Drive folder directly to the VM CUDA folders\n",
        "!tar -xvzf /content/cudnn-10.2-linux-x64-v7.6.5.32.tgz\n",
        "!chmod a+r /content/cuda/include/cudnn.h\n",
        "!cat /content/cuda/include/cudnn.h | grep CUDNN_MAJOR -A 2"
      ],
      "execution_count": 0,
      "outputs": []
    },
    {
      "cell_type": "markdown",
      "metadata": {
        "id": "JNlEEOWRH71L",
        "colab_type": "text"
      },
      "source": [
        "#Detection Using A Pre-Trained Model"
      ]
    },
    {
      "cell_type": "code",
      "metadata": {
        "id": "uaSWqXZ2NFoC",
        "colab_type": "code",
        "colab": {}
      },
      "source": [
        "import os\n",
        "from os.path import exists, join, basename, splitext\n",
        "\n",
        "git_repo_url = 'https://github.com/pjreddie/darknet'\n",
        "project_name = splitext(basename(git_repo_url))[0]\n",
        "if not exists(project_name):\n",
        "  # clone and install dependencies\n",
        "  !git clone -q $git_repo_url\n",
        "  #!cd $project_name && pip install -q -r requirement.txt\n",
        "\n",
        "\n"
      ],
      "execution_count": 0,
      "outputs": []
    },
    {
      "cell_type": "code",
      "metadata": {
        "id": "Y64rpe4QPxaG",
        "colab_type": "code",
        "colab": {}
      },
      "source": [
        "%cd /content/darknet/\n"
      ],
      "execution_count": 0,
      "outputs": []
    },
    {
      "cell_type": "code",
      "metadata": {
        "id": "VVxqrSAmCRko",
        "colab_type": "code",
        "colab": {}
      },
      "source": [
        "#Compile Darknet\n",
        "!make"
      ],
      "execution_count": 0,
      "outputs": []
    },
    {
      "cell_type": "markdown",
      "metadata": {
        "id": "d4wEK-hNN5xK",
        "colab_type": "text"
      },
      "source": [
        "#Download the Yolo darknet. "
      ]
    },
    {
      "cell_type": "code",
      "metadata": {
        "id": "5UMSqUrwN-sU",
        "colab_type": "code",
        "colab": {}
      },
      "source": [
        "!wget https://pjreddie.com/media/files/yolov3.weights\n",
        "\n"
      ],
      "execution_count": 0,
      "outputs": []
    },
    {
      "cell_type": "code",
      "metadata": {
        "id": "57D7AS8LOikQ",
        "colab_type": "code",
        "colab": {}
      },
      "source": [
        "!./darknet detect cfg/yolov3.cfg yolov3.weights data/dog.jpg"
      ],
      "execution_count": 0,
      "outputs": []
    },
    {
      "cell_type": "markdown",
      "metadata": {
        "id": "dt-qkXohC6f9",
        "colab_type": "text"
      },
      "source": [
        "#See the results"
      ]
    },
    {
      "cell_type": "code",
      "metadata": {
        "id": "imaCT_okC8SL",
        "colab_type": "code",
        "colab": {}
      },
      "source": [
        "#download files\n",
        "def imShow(path):\n",
        "  import cv2\n",
        "  import matplotlib.pyplot as plt\n",
        "  %matplotlib inline\n",
        "\n",
        "  image = cv2.imread(path)\n",
        "  height, width = image.shape[:2]\n",
        "  resized_image = cv2.resize(image,(3*width, 3*height), interpolation = cv2.INTER_CUBIC)\n",
        "\n",
        "  fig = plt.gcf()\n",
        "  fig.set_size_inches(18, 10)\n",
        "  plt.axis(\"off\")\n",
        "  #plt.rcParams['figure.figsize'] = [10, 5]\n",
        "  plt.imshow(cv2.cvtColor(resized_image, cv2.COLOR_BGR2RGB))\n",
        "  plt.show()\n",
        "  \n",
        "# Show the result using the helper imgShow()\n",
        "imShow('predictions.jpg')"
      ],
      "execution_count": 0,
      "outputs": []
    },
    {
      "cell_type": "markdown",
      "metadata": {
        "id": "lCJJsm_QDa2u",
        "colab_type": "text"
      },
      "source": [
        "#Explanation\n",
        "\n",
        "Darknet prints out the objects it detected, its confidence, and how long it took to find them. We didn't compile Darknet with OpenCV so it can't display the detections directly. Instead, it saves them in predictions.png. You can open it to see the detected objects. Since we are using Darknet on the CPU it takes around 6-12 seconds per image. If we use the GPU version it would be much faster.\n",
        "\n",
        "I've included some example images to try in case you need inspiration. Try data/eagle.jpg, data/dog.jpg, data/person.jpg, or data/horses.jpg!"
      ]
    },
    {
      "cell_type": "code",
      "metadata": {
        "id": "S_UadevNDgyc",
        "colab_type": "code",
        "colab": {}
      },
      "source": [
        "!./darknet detect cfg/yolov3.cfg yolov3.weights data/eagle.jpg -dont-show"
      ],
      "execution_count": 0,
      "outputs": []
    },
    {
      "cell_type": "code",
      "metadata": {
        "id": "IgLmNL0jDxXU",
        "colab_type": "code",
        "colab": {}
      },
      "source": [
        "# Show the result using the helper imgShow()\n",
        "imShow('predictions.jpg')"
      ],
      "execution_count": 0,
      "outputs": []
    },
    {
      "cell_type": "code",
      "metadata": {
        "id": "E8IBsI6cDjzr",
        "colab_type": "code",
        "colab": {}
      },
      "source": [
        "!./darknet detect cfg/yolov3.cfg yolov3.weights data/person.jpg "
      ],
      "execution_count": 0,
      "outputs": []
    },
    {
      "cell_type": "code",
      "metadata": {
        "id": "MuZsG12lDyAc",
        "colab_type": "code",
        "colab": {}
      },
      "source": [
        "# Show the result using the helper imgShow()\n",
        "imShow('predictions.jpg')"
      ],
      "execution_count": 0,
      "outputs": []
    },
    {
      "cell_type": "code",
      "metadata": {
        "id": "jn-tle8kDkFT",
        "colab_type": "code",
        "colab": {}
      },
      "source": [
        "!./darknet detect cfg/yolov3.cfg yolov3.weights data/horses.jpg "
      ],
      "execution_count": 0,
      "outputs": []
    },
    {
      "cell_type": "code",
      "metadata": {
        "id": "E91bGTDyDykL",
        "colab_type": "code",
        "colab": {}
      },
      "source": [
        "# Show the result using the helper imgShow()\n",
        "imShow('predictions.jpg')"
      ],
      "execution_count": 0,
      "outputs": []
    },
    {
      "cell_type": "code",
      "metadata": {
        "id": "UBMXeI_vDkUb",
        "colab_type": "code",
        "colab": {}
      },
      "source": [
        "!./darknet detect cfg/yolov3.cfg yolov3.weights data/kite.jpg"
      ],
      "execution_count": 0,
      "outputs": []
    },
    {
      "cell_type": "code",
      "metadata": {
        "id": "E_LZMIZPDzIL",
        "colab_type": "code",
        "colab": {}
      },
      "source": [
        "# Show the result using the helper imgShow()\n",
        "imShow('predictions.jpg')"
      ],
      "execution_count": 0,
      "outputs": []
    },
    {
      "cell_type": "code",
      "metadata": {
        "id": "iT26uTfwEMot",
        "colab_type": "code",
        "colab": {}
      },
      "source": [
        "!./darknet detect cfg/yolov3.cfg yolov3.weights data/scream.jpg"
      ],
      "execution_count": 0,
      "outputs": []
    },
    {
      "cell_type": "code",
      "metadata": {
        "id": "UIWCLj9oEUv7",
        "colab_type": "code",
        "colab": {}
      },
      "source": [
        "# Show the result using the helper imgShow()\n",
        "imShow('predictions.jpg')"
      ],
      "execution_count": 0,
      "outputs": []
    },
    {
      "cell_type": "markdown",
      "metadata": {
        "id": "wZcVbaqSHkh9",
        "colab_type": "text"
      },
      "source": [
        "#Changing The Detection Threshold (Warning: Very slow may take 20+ mins )\n",
        "\n",
        "By default, YOLO only displays objects detected with a confidence of .25 or higher. You can change this by passing the -thresh <val> flag to the yolo command. For example, to display all detection you can set the threshold to 0:"
      ]
    },
    {
      "cell_type": "code",
      "metadata": {
        "id": "n34iXn8pHnzK",
        "colab_type": "code",
        "colab": {}
      },
      "source": [
        "!./darknet detect cfg/yolov3.cfg yolov3.weights data/dog.jpg -thresh 0"
      ],
      "execution_count": 0,
      "outputs": []
    },
    {
      "cell_type": "markdown",
      "metadata": {
        "id": "wLFL4YtJIIo3",
        "colab_type": "text"
      },
      "source": [
        "#Tiny YOLOv3\n",
        "\n",
        "We have a very small model as well for constrained environments, yolov3-tiny. To use this model, first download the weights:"
      ]
    },
    {
      "cell_type": "code",
      "metadata": {
        "id": "Z7CW7Z1IIMut",
        "colab_type": "code",
        "colab": {}
      },
      "source": [
        "!wget https://pjreddie.com/media/files/yolov3-tiny.weights"
      ],
      "execution_count": 0,
      "outputs": []
    },
    {
      "cell_type": "code",
      "metadata": {
        "id": "lgi_JqH8IQ38",
        "colab_type": "code",
        "colab": {}
      },
      "source": [
        "!./darknet detect cfg/yolov3-tiny.cfg yolov3-tiny.weights data/dog.jpg"
      ],
      "execution_count": 0,
      "outputs": []
    },
    {
      "cell_type": "code",
      "metadata": {
        "id": "m1EOPs9ZGjXZ",
        "colab_type": "code",
        "colab": {}
      },
      "source": [
        "# Show the result using the helper imgShow()\n",
        "imShow('predictions.jpg')"
      ],
      "execution_count": 0,
      "outputs": []
    },
    {
      "cell_type": "markdown",
      "metadata": {
        "id": "VcZUkyS1KhfX",
        "colab_type": "text"
      },
      "source": [
        "#Thank you"
      ]
    }
  ]
}