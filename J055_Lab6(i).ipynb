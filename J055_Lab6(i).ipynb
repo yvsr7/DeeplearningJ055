{
  "nbformat": 4,
  "nbformat_minor": 0,
  "metadata": {
    "colab": {
      "name": "J055_Lab6(i).ipynb",
      "provenance": [],
      "include_colab_link": true
    },
    "kernelspec": {
      "name": "python3",
      "display_name": "Python 3"
    },
    "accelerator": "GPU"
  },
  "cells": [
    {
      "cell_type": "markdown",
      "metadata": {
        "id": "view-in-github",
        "colab_type": "text"
      },
      "source": [
        "<a href=\"https://colab.research.google.com/github/yvsr7/DeeplearningJ055/blob/master/J055_Lab6(i).ipynb\" target=\"_parent\"><img src=\"https://colab.research.google.com/assets/colab-badge.svg\" alt=\"Open In Colab\"/></a>"
      ]
    },
    {
      "cell_type": "markdown",
      "metadata": {
        "id": "-qGLrDE4pn8P",
        "colab_type": "text"
      },
      "source": [
        "#Keras layers\n",
        "\n",
        "The building blocks for neural network architectures"
      ]
    },
    {
      "cell_type": "markdown",
      "metadata": {
        "id": "RZHeMOJVp8Ui",
        "colab_type": "text"
      },
      "source": [
        "#Download dataset\n",
        "\n",
        "In this Keras tutorial, we are going to use the Pima Indians onset of diabetes dataset. This is a standard machine learning dataset from the UCI Machine Learning repository. It describes patient medical record data for Pima Indians and whether they had an onset of diabetes within five years.\n",
        "\n",
        "As such, it is a binary classification problem (onset of diabetes as 1 or not as 0). All of the input variables that describe each patient are numerical. This makes it easy to use directly with neural networks that expect numerical input and output values, and ideal for our first neural network in Keras."
      ]
    },
    {
      "cell_type": "code",
      "metadata": {
        "id": "oycfI2SLnukE",
        "colab_type": "code",
        "outputId": "d6931a3f-bccc-4532-aabd-24e69bab1c4d",
        "colab": {
          "base_uri": "https://localhost:8080/",
          "height": 221
        }
      },
      "source": [
        "\n",
        "!wget  http://upscfever.com/datasets/pima-indians-diabetes.data.csv  -P drive/app\n"
      ],
      "execution_count": 0,
      "outputs": [
        {
          "output_type": "stream",
          "text": [
            "--2020-02-10 08:20:45--  http://upscfever.com/datasets/pima-indians-diabetes.data.csv\n",
            "Resolving upscfever.com (upscfever.com)... 104.27.176.133, 104.27.177.133, 2606:4700:3037::681b:b085, ...\n",
            "Connecting to upscfever.com (upscfever.com)|104.27.176.133|:80... failed: Connection timed out.\n",
            "Connecting to upscfever.com (upscfever.com)|104.27.177.133|:80... connected.\n",
            "HTTP request sent, awaiting response... 200 OK\n",
            "Length: unspecified [text/csv]\n",
            "Saving to: ‘drive/app/pima-indians-diabetes.data.csv’\n",
            "\n",
            "pima-indians-diabet     [ <=>                ]  22.73K  --.-KB/s    in 0s      \n",
            "\n",
            "2020-02-10 08:22:58 (398 MB/s) - ‘drive/app/pima-indians-diabetes.data.csv’ saved [23278]\n",
            "\n"
          ],
          "name": "stdout"
        }
      ]
    },
    {
      "cell_type": "markdown",
      "metadata": {
        "id": "kGUV1OVTqDZD",
        "colab_type": "text"
      },
      "source": [
        "#Load libraries\n",
        "\n",
        "We can now load the file as a matrix of numbers using the NumPy function loadtxt().\n",
        "\n",
        "There are eight input variables and one output variable (the last column). We will be learning a model to map rows of input variables (X) to an output variable (y), which we often summarize as y = f(X).\n",
        "\n",
        "The variables can be summarized as follows:\n",
        "\n",
        "Input Variables (X):\n",
        "\n",
        "1. Number of times pregnant\n",
        "2. Plasma glucose concentration a 2 hours in an oral glucose tolerance test\n",
        "3. Diastolic blood pressure (mm Hg)\n",
        "4. Triceps skin fold thickness (mm)\n",
        "5. 2-Hour serum insulin (mu U/ml)\n",
        "6. Body mass index (weight in kg/(height in m)^2)\n",
        "7. Diabetes pedigree function\n",
        "8. Age (years)\n",
        "\n",
        "Output Variables (y):\n",
        "\n",
        "Class variable (0 or 1)\n"
      ]
    },
    {
      "cell_type": "code",
      "metadata": {
        "id": "ShIacRG-pdej",
        "colab_type": "code",
        "outputId": "24104217-506f-406c-bd90-08de7db5a473",
        "colab": {
          "base_uri": "https://localhost:8080/",
          "height": 80
        }
      },
      "source": [
        "import pandas as pd\n",
        "import numpy as np\n",
        "from numpy import loadtxt\n",
        "import keras\n",
        "from keras.models import Sequential\n",
        "from keras.layers import Dense\n",
        "dataset = loadtxt('drive/app/pima-indians-diabetes.data.csv', delimiter=',')\n",
        "# split into input (X) and output (y) variables\n",
        "X = dataset[:,0:8]\n",
        "y = dataset[:,8]"
      ],
      "execution_count": 0,
      "outputs": [
        {
          "output_type": "stream",
          "text": [
            "Using TensorFlow backend.\n"
          ],
          "name": "stderr"
        },
        {
          "output_type": "display_data",
          "data": {
            "text/html": [
              "<p style=\"color: red;\">\n",
              "The default version of TensorFlow in Colab will soon switch to TensorFlow 2.x.<br>\n",
              "We recommend you <a href=\"https://www.tensorflow.org/guide/migrate\" target=\"_blank\">upgrade</a> now \n",
              "or ensure your notebook will continue to use TensorFlow 1.x via the <code>%tensorflow_version 1.x</code> magic:\n",
              "<a href=\"https://colab.research.google.com/notebooks/tensorflow_version.ipynb\" target=\"_blank\">more info</a>.</p>\n"
            ],
            "text/plain": [
              "<IPython.core.display.HTML object>"
            ]
          },
          "metadata": {
            "tags": []
          }
        }
      ]
    },
    {
      "cell_type": "markdown",
      "metadata": {
        "id": "1i0X9CY-qaaq",
        "colab_type": "text"
      },
      "source": [
        "#Define keras model\n",
        "\n",
        "##Dense layer\n",
        "\n",
        "```\n",
        "keras.layers.Dense(units, activation=None, use_bias=True, kernel_initializer='glorot_uniform', bias_initializer='zeros', kernel_regularizer=None, bias_regularizer=None, activity_regularizer=None, kernel_constraint=None, bias_constraint=None)\n",
        "```\n",
        "\n",
        "Just your regular densely-connected NN layer.\n",
        "\n",
        "Dense implements the operation: output = activation(dot(input, kernel) + bias) where activation is the element-wise activation function passed as the activation argument, kernel is a weights matrix created by the layer, and bias is a bias vector created by the layer (only applicable if use_bias is True).\n",
        "\n",
        "Note: if the input to the layer has a rank greater than 2, then it is flattened prior to the initial dot product with kernel.\n",
        "\n",
        "Arguments\n",
        "\n",
        "1. units: Positive integer, dimensionality of the output space.\n",
        "2. activation: Activation function to use (see activations). If you don't specify anything, no activation is applied (ie. \"linear\" activation: a(x) = x).\n",
        "3. use_bias: Boolean, whether the layer uses a bias vector.\n",
        "4. kernel_initializer: Initializer for the kernel weights matrix (see initializers).\n",
        "5. bias_initializer: Initializer for the bias vector (see initializers).\n",
        "6. kernel_regularizer: Regularizer function applied to the kernel weights matrix (see regularizer).\n",
        "7. bias_regularizer: Regularizer function applied to the bias vector (see regularizer).\n",
        "8. activity_regularizer: Regularizer function applied to the output of the layer (its \"activation\"). (see regularizer).\n",
        "9. kernel_constraint: Constraint function applied to the kernel weights matrix (see constraints).\n",
        "10. bias_constraint: Constraint function applied to the bias vector (see constraints)."
      ]
    },
    {
      "cell_type": "code",
      "metadata": {
        "id": "IoFq8ywRqceh",
        "colab_type": "code",
        "outputId": "c3e1fe28-1fda-43e0-a7d9-9b92c24e7105",
        "colab": {
          "base_uri": "https://localhost:8080/",
          "height": 139
        }
      },
      "source": [
        "# define the keras model\n",
        "model = Sequential()\n",
        "model.add(Dense(units=12, input_dim=8, activation='relu', use_bias=True, kernel_initializer='glorot_uniform', bias_initializer='zeros', kernel_regularizer=keras.regularizers.l1_l2(l1=0.01, l2=0.01), bias_regularizer=keras.regularizers.l1_l2(l1=0.01, l2=0.01), activity_regularizer=keras.regularizers.l1_l2(l1=0.01, l2=0.01), kernel_constraint=keras.constraints.MinMaxNorm(min_value=0.0, max_value=1.0, rate=1.0, axis=0), bias_constraint=keras.constraints.MinMaxNorm(min_value=0.0, max_value=1.0, rate=1.0, axis=0)))\n",
        "model.add(Dense(units=8, activation='relu', use_bias=True, kernel_initializer='glorot_uniform', bias_initializer='zeros', kernel_regularizer=keras.regularizers.l1_l2(l1=0.01, l2=0.01), bias_regularizer=keras.regularizers.l1_l2(l1=0.01, l2=0.01), activity_regularizer=keras.regularizers.l1_l2(l1=0.01, l2=0.01), kernel_constraint=keras.constraints.MinMaxNorm(min_value=0.0, max_value=1.0, rate=1.0, axis=0), bias_constraint=keras.constraints.MinMaxNorm(min_value=0.0, max_value=1.0, rate=1.0, axis=0)))\n",
        "model.add(Dense(units=1, activation='sigmoid', kernel_initializer='glorot_uniform', bias_initializer='zeros', kernel_regularizer=keras.regularizers.l1_l2(l1=0.01, l2=0.01), bias_regularizer=keras.regularizers.l1_l2(l1=0.01, l2=0.01), activity_regularizer=keras.regularizers.l1_l2(l1=0.01, l2=0.01), kernel_constraint=keras.constraints.MinMaxNorm(min_value=0.0, max_value=1.0, rate=1.0, axis=0), bias_constraint=keras.constraints.MinMaxNorm(min_value=0.0, max_value=1.0, rate=1.0, axis=0)))"
      ],
      "execution_count": 0,
      "outputs": [
        {
          "output_type": "stream",
          "text": [
            "WARNING:tensorflow:From /usr/local/lib/python3.6/dist-packages/keras/backend/tensorflow_backend.py:66: The name tf.get_default_graph is deprecated. Please use tf.compat.v1.get_default_graph instead.\n",
            "\n",
            "WARNING:tensorflow:From /usr/local/lib/python3.6/dist-packages/keras/backend/tensorflow_backend.py:541: The name tf.placeholder is deprecated. Please use tf.compat.v1.placeholder instead.\n",
            "\n",
            "WARNING:tensorflow:From /usr/local/lib/python3.6/dist-packages/keras/backend/tensorflow_backend.py:4432: The name tf.random_uniform is deprecated. Please use tf.random.uniform instead.\n",
            "\n"
          ],
          "name": "stdout"
        }
      ]
    },
    {
      "cell_type": "markdown",
      "metadata": {
        "id": "fu_8Z0x6sbE3",
        "colab_type": "text"
      },
      "source": [
        "#Dense layers\n",
        "\n",
        "Above code:\n",
        "\n",
        "1. The model expects rows of data with 8 variables (the input_dim=8 argument)\n",
        "2. The first hidden layer has 12 nodes and uses the relu activation function.\n",
        "3. The second hidden layer has 8 nodes and uses the relu activation function.\n",
        "4. The output layer has one node and uses the sigmoid activation function."
      ]
    },
    {
      "cell_type": "markdown",
      "metadata": {
        "id": "SL4gN-VMqzTk",
        "colab_type": "text"
      },
      "source": [
        "#Model compile"
      ]
    },
    {
      "cell_type": "code",
      "metadata": {
        "id": "FRWDG3XMtKMA",
        "colab_type": "code",
        "outputId": "fb0ce19e-7410-4170-b6a5-cd8801a9a6bc",
        "colab": {
          "base_uri": "https://localhost:8080/",
          "height": 156
        }
      },
      "source": [
        "# compile the keras model\n",
        "model.compile(loss='binary_crossentropy', optimizer='adam', metrics=['accuracy'])"
      ],
      "execution_count": 0,
      "outputs": [
        {
          "output_type": "stream",
          "text": [
            "WARNING:tensorflow:From /usr/local/lib/python3.6/dist-packages/keras/optimizers.py:793: The name tf.train.Optimizer is deprecated. Please use tf.compat.v1.train.Optimizer instead.\n",
            "\n",
            "WARNING:tensorflow:From /usr/local/lib/python3.6/dist-packages/keras/backend/tensorflow_backend.py:3657: The name tf.log is deprecated. Please use tf.math.log instead.\n",
            "\n",
            "WARNING:tensorflow:From /usr/local/lib/python3.6/dist-packages/tensorflow_core/python/ops/nn_impl.py:183: where (from tensorflow.python.ops.array_ops) is deprecated and will be removed in a future version.\n",
            "Instructions for updating:\n",
            "Use tf.where in 2.0, which has the same broadcast rule as np.where\n"
          ],
          "name": "stdout"
        }
      ]
    },
    {
      "cell_type": "markdown",
      "metadata": {
        "id": "cvCMp556tNZw",
        "colab_type": "text"
      },
      "source": [
        "#Fit Keras Model"
      ]
    },
    {
      "cell_type": "code",
      "metadata": {
        "id": "BnvfSSNktSIR",
        "colab_type": "code",
        "outputId": "c35f957e-eb3c-468d-8f65-f9c19b1db74b",
        "colab": {
          "base_uri": "https://localhost:8080/",
          "height": 1000
        }
      },
      "source": [
        "# fit the keras model on the dataset\n",
        "model.fit(X, y, epochs=150, batch_size=10)"
      ],
      "execution_count": 0,
      "outputs": [
        {
          "output_type": "stream",
          "text": [
            "WARNING:tensorflow:From /usr/local/lib/python3.6/dist-packages/keras/backend/tensorflow_backend.py:1033: The name tf.assign_add is deprecated. Please use tf.compat.v1.assign_add instead.\n",
            "\n",
            "WARNING:tensorflow:From /usr/local/lib/python3.6/dist-packages/keras/backend/tensorflow_backend.py:1020: The name tf.assign is deprecated. Please use tf.compat.v1.assign instead.\n",
            "\n",
            "WARNING:tensorflow:From /usr/local/lib/python3.6/dist-packages/keras/backend/tensorflow_backend.py:3005: The name tf.Session is deprecated. Please use tf.compat.v1.Session instead.\n",
            "\n",
            "Epoch 1/150\n",
            "WARNING:tensorflow:From /usr/local/lib/python3.6/dist-packages/keras/backend/tensorflow_backend.py:190: The name tf.get_default_session is deprecated. Please use tf.compat.v1.get_default_session instead.\n",
            "\n",
            "WARNING:tensorflow:From /usr/local/lib/python3.6/dist-packages/keras/backend/tensorflow_backend.py:197: The name tf.ConfigProto is deprecated. Please use tf.compat.v1.ConfigProto instead.\n",
            "\n",
            "WARNING:tensorflow:From /usr/local/lib/python3.6/dist-packages/keras/backend/tensorflow_backend.py:207: The name tf.global_variables is deprecated. Please use tf.compat.v1.global_variables instead.\n",
            "\n",
            "WARNING:tensorflow:From /usr/local/lib/python3.6/dist-packages/keras/backend/tensorflow_backend.py:216: The name tf.is_variable_initialized is deprecated. Please use tf.compat.v1.is_variable_initialized instead.\n",
            "\n",
            "WARNING:tensorflow:From /usr/local/lib/python3.6/dist-packages/keras/backend/tensorflow_backend.py:223: The name tf.variables_initializer is deprecated. Please use tf.compat.v1.variables_initializer instead.\n",
            "\n",
            "768/768 [==============================] - 10s 13ms/step - loss: 555.6337 - acc: 0.4049\n",
            "Epoch 2/150\n",
            "768/768 [==============================] - 0s 592us/step - loss: 206.0564 - acc: 0.4310\n",
            "Epoch 3/150\n",
            "768/768 [==============================] - 0s 581us/step - loss: 76.9459 - acc: 0.4805\n",
            "Epoch 4/150\n",
            "768/768 [==============================] - 0s 570us/step - loss: 32.1214 - acc: 0.6458\n",
            "Epoch 5/150\n",
            "768/768 [==============================] - 0s 595us/step - loss: 16.6338 - acc: 0.6615\n",
            "Epoch 6/150\n",
            "768/768 [==============================] - 0s 590us/step - loss: 10.4893 - acc: 0.6523\n",
            "Epoch 7/150\n",
            "768/768 [==============================] - 0s 604us/step - loss: 7.4021 - acc: 0.6497\n",
            "Epoch 8/150\n",
            "768/768 [==============================] - 0s 601us/step - loss: 5.5638 - acc: 0.6484\n",
            "Epoch 9/150\n",
            "768/768 [==============================] - 0s 574us/step - loss: 4.3441 - acc: 0.6484\n",
            "Epoch 10/150\n",
            "768/768 [==============================] - 0s 599us/step - loss: 3.4923 - acc: 0.6523\n",
            "Epoch 11/150\n",
            "768/768 [==============================] - 0s 577us/step - loss: 2.9104 - acc: 0.6563\n",
            "Epoch 12/150\n",
            "768/768 [==============================] - 0s 578us/step - loss: 2.4910 - acc: 0.6549\n",
            "Epoch 13/150\n",
            "768/768 [==============================] - 0s 572us/step - loss: 2.1743 - acc: 0.6563\n",
            "Epoch 14/150\n",
            "768/768 [==============================] - 0s 608us/step - loss: 1.9473 - acc: 0.6602\n",
            "Epoch 15/150\n",
            "768/768 [==============================] - 0s 614us/step - loss: 1.7759 - acc: 0.6563\n",
            "Epoch 16/150\n",
            "768/768 [==============================] - 0s 603us/step - loss: 1.6469 - acc: 0.6536\n",
            "Epoch 17/150\n",
            "768/768 [==============================] - 0s 607us/step - loss: 1.5427 - acc: 0.6523\n",
            "Epoch 18/150\n",
            "768/768 [==============================] - 0s 625us/step - loss: 1.4752 - acc: 0.6510\n",
            "Epoch 19/150\n",
            "768/768 [==============================] - 0s 592us/step - loss: 1.4152 - acc: 0.6510\n",
            "Epoch 20/150\n",
            "768/768 [==============================] - 0s 605us/step - loss: 1.3675 - acc: 0.6510\n",
            "Epoch 21/150\n",
            "768/768 [==============================] - 0s 633us/step - loss: 1.3272 - acc: 0.6510\n",
            "Epoch 22/150\n",
            "768/768 [==============================] - 0s 560us/step - loss: 1.2970 - acc: 0.6510\n",
            "Epoch 23/150\n",
            "768/768 [==============================] - 0s 617us/step - loss: 1.2688 - acc: 0.6510\n",
            "Epoch 24/150\n",
            "768/768 [==============================] - 0s 602us/step - loss: 1.2464 - acc: 0.6510\n",
            "Epoch 25/150\n",
            "768/768 [==============================] - 0s 597us/step - loss: 1.2265 - acc: 0.6510\n",
            "Epoch 26/150\n",
            "768/768 [==============================] - 0s 574us/step - loss: 1.2094 - acc: 0.6510\n",
            "Epoch 27/150\n",
            "768/768 [==============================] - 0s 590us/step - loss: 1.1942 - acc: 0.6510\n",
            "Epoch 28/150\n",
            "768/768 [==============================] - 0s 606us/step - loss: 1.1807 - acc: 0.6510\n",
            "Epoch 29/150\n",
            "768/768 [==============================] - 0s 588us/step - loss: 1.1682 - acc: 0.6510\n",
            "Epoch 30/150\n",
            "768/768 [==============================] - 0s 585us/step - loss: 1.1549 - acc: 0.6510\n",
            "Epoch 31/150\n",
            "768/768 [==============================] - 0s 571us/step - loss: 1.1456 - acc: 0.6510\n",
            "Epoch 32/150\n",
            "768/768 [==============================] - 0s 599us/step - loss: 1.1356 - acc: 0.6510\n",
            "Epoch 33/150\n",
            "768/768 [==============================] - 0s 582us/step - loss: 1.1258 - acc: 0.6510\n",
            "Epoch 34/150\n",
            "768/768 [==============================] - 0s 611us/step - loss: 1.1163 - acc: 0.6510\n",
            "Epoch 35/150\n",
            "768/768 [==============================] - 0s 579us/step - loss: 1.1080 - acc: 0.6510\n",
            "Epoch 36/150\n",
            "768/768 [==============================] - 0s 586us/step - loss: 1.0998 - acc: 0.6510\n",
            "Epoch 37/150\n",
            "768/768 [==============================] - 0s 597us/step - loss: 1.0909 - acc: 0.6510\n",
            "Epoch 38/150\n",
            "768/768 [==============================] - 0s 585us/step - loss: 1.0842 - acc: 0.6510\n",
            "Epoch 39/150\n",
            "768/768 [==============================] - 0s 587us/step - loss: 1.0767 - acc: 0.6510\n",
            "Epoch 40/150\n",
            "768/768 [==============================] - 0s 605us/step - loss: 1.0694 - acc: 0.6510\n",
            "Epoch 41/150\n",
            "768/768 [==============================] - 0s 588us/step - loss: 1.0627 - acc: 0.6510\n",
            "Epoch 42/150\n",
            "768/768 [==============================] - 0s 575us/step - loss: 1.0562 - acc: 0.6510\n",
            "Epoch 43/150\n",
            "768/768 [==============================] - 0s 593us/step - loss: 1.0496 - acc: 0.6510\n",
            "Epoch 44/150\n",
            "768/768 [==============================] - 0s 615us/step - loss: 1.0433 - acc: 0.6510\n",
            "Epoch 45/150\n",
            "768/768 [==============================] - 0s 595us/step - loss: 1.0372 - acc: 0.6510\n",
            "Epoch 46/150\n",
            "768/768 [==============================] - 0s 610us/step - loss: 1.0313 - acc: 0.6510\n",
            "Epoch 47/150\n",
            "768/768 [==============================] - 0s 606us/step - loss: 1.0256 - acc: 0.6510\n",
            "Epoch 48/150\n",
            "768/768 [==============================] - 0s 617us/step - loss: 1.0196 - acc: 0.6510\n",
            "Epoch 49/150\n",
            "768/768 [==============================] - 0s 597us/step - loss: 1.0140 - acc: 0.6510\n",
            "Epoch 50/150\n",
            "768/768 [==============================] - 0s 580us/step - loss: 1.0085 - acc: 0.6510\n",
            "Epoch 51/150\n",
            "768/768 [==============================] - 0s 590us/step - loss: 1.0033 - acc: 0.6510\n",
            "Epoch 52/150\n",
            "768/768 [==============================] - 0s 594us/step - loss: 0.9978 - acc: 0.6510\n",
            "Epoch 53/150\n",
            "768/768 [==============================] - 0s 571us/step - loss: 0.9924 - acc: 0.6510\n",
            "Epoch 54/150\n",
            "768/768 [==============================] - 0s 579us/step - loss: 0.9872 - acc: 0.6510\n",
            "Epoch 55/150\n",
            "768/768 [==============================] - 0s 582us/step - loss: 0.9819 - acc: 0.6510\n",
            "Epoch 56/150\n",
            "768/768 [==============================] - 0s 612us/step - loss: 0.9768 - acc: 0.6510\n",
            "Epoch 57/150\n",
            "768/768 [==============================] - 0s 590us/step - loss: 0.9719 - acc: 0.6510\n",
            "Epoch 58/150\n",
            "768/768 [==============================] - 0s 583us/step - loss: 0.9667 - acc: 0.6510\n",
            "Epoch 59/150\n",
            "768/768 [==============================] - 0s 590us/step - loss: 0.9616 - acc: 0.6510\n",
            "Epoch 60/150\n",
            "768/768 [==============================] - 0s 602us/step - loss: 0.9565 - acc: 0.6510\n",
            "Epoch 61/150\n",
            "768/768 [==============================] - 0s 609us/step - loss: 0.9513 - acc: 0.6510\n",
            "Epoch 62/150\n",
            "768/768 [==============================] - 0s 638us/step - loss: 0.9466 - acc: 0.6510\n",
            "Epoch 63/150\n",
            "768/768 [==============================] - 0s 597us/step - loss: 0.9416 - acc: 0.6510\n",
            "Epoch 64/150\n",
            "768/768 [==============================] - 0s 565us/step - loss: 0.9370 - acc: 0.6510\n",
            "Epoch 65/150\n",
            "768/768 [==============================] - 0s 580us/step - loss: 0.9327 - acc: 0.6510\n",
            "Epoch 66/150\n",
            "768/768 [==============================] - 1s 654us/step - loss: 0.9279 - acc: 0.6510\n",
            "Epoch 67/150\n",
            "768/768 [==============================] - 0s 616us/step - loss: 0.9230 - acc: 0.6510\n",
            "Epoch 68/150\n",
            "768/768 [==============================] - 0s 604us/step - loss: 0.9183 - acc: 0.6510\n",
            "Epoch 69/150\n",
            "768/768 [==============================] - 0s 593us/step - loss: 0.9138 - acc: 0.6510\n",
            "Epoch 70/150\n",
            "768/768 [==============================] - 0s 579us/step - loss: 0.9097 - acc: 0.6510\n",
            "Epoch 71/150\n",
            "768/768 [==============================] - 0s 602us/step - loss: 0.9062 - acc: 0.6510\n",
            "Epoch 72/150\n",
            "768/768 [==============================] - 0s 578us/step - loss: 0.9014 - acc: 0.6510\n",
            "Epoch 73/150\n",
            "768/768 [==============================] - 0s 580us/step - loss: 0.8967 - acc: 0.6510\n",
            "Epoch 74/150\n",
            "768/768 [==============================] - 0s 603us/step - loss: 0.8921 - acc: 0.6510\n",
            "Epoch 75/150\n",
            "768/768 [==============================] - 0s 586us/step - loss: 0.8879 - acc: 0.6510\n",
            "Epoch 76/150\n",
            "768/768 [==============================] - 0s 619us/step - loss: 0.8837 - acc: 0.6510\n",
            "Epoch 77/150\n",
            "768/768 [==============================] - 0s 621us/step - loss: 0.8796 - acc: 0.6510\n",
            "Epoch 78/150\n",
            "768/768 [==============================] - 0s 578us/step - loss: 0.8760 - acc: 0.6510\n",
            "Epoch 79/150\n",
            "768/768 [==============================] - 0s 600us/step - loss: 0.8720 - acc: 0.6510\n",
            "Epoch 80/150\n",
            "768/768 [==============================] - 0s 642us/step - loss: 0.8684 - acc: 0.6510\n",
            "Epoch 81/150\n",
            "768/768 [==============================] - 0s 624us/step - loss: 0.8649 - acc: 0.6510\n",
            "Epoch 82/150\n",
            "768/768 [==============================] - 0s 601us/step - loss: 0.8610 - acc: 0.6510\n",
            "Epoch 83/150\n",
            "768/768 [==============================] - 0s 605us/step - loss: 0.8575 - acc: 0.6510\n",
            "Epoch 84/150\n",
            "768/768 [==============================] - 0s 581us/step - loss: 0.8547 - acc: 0.6510\n",
            "Epoch 85/150\n",
            "768/768 [==============================] - 0s 629us/step - loss: 0.8520 - acc: 0.6510\n",
            "Epoch 86/150\n",
            "768/768 [==============================] - 0s 595us/step - loss: 0.8481 - acc: 0.6510\n",
            "Epoch 87/150\n",
            "768/768 [==============================] - 0s 595us/step - loss: 0.8447 - acc: 0.6510\n",
            "Epoch 88/150\n",
            "768/768 [==============================] - 0s 580us/step - loss: 0.8422 - acc: 0.6510\n",
            "Epoch 89/150\n",
            "768/768 [==============================] - 0s 583us/step - loss: 0.8384 - acc: 0.6510\n",
            "Epoch 90/150\n",
            "768/768 [==============================] - 0s 587us/step - loss: 0.8347 - acc: 0.6510\n",
            "Epoch 91/150\n",
            "768/768 [==============================] - 0s 610us/step - loss: 0.8315 - acc: 0.6510\n",
            "Epoch 92/150\n",
            "768/768 [==============================] - 0s 625us/step - loss: 0.8284 - acc: 0.6510\n",
            "Epoch 93/150\n",
            "768/768 [==============================] - 0s 641us/step - loss: 0.8251 - acc: 0.6510\n",
            "Epoch 94/150\n",
            "768/768 [==============================] - 0s 592us/step - loss: 0.8219 - acc: 0.6510\n",
            "Epoch 95/150\n",
            "768/768 [==============================] - 0s 574us/step - loss: 0.8192 - acc: 0.6510\n",
            "Epoch 96/150\n",
            "768/768 [==============================] - 0s 599us/step - loss: 0.8163 - acc: 0.6510\n",
            "Epoch 97/150\n",
            "768/768 [==============================] - 0s 595us/step - loss: 0.8132 - acc: 0.6510\n",
            "Epoch 98/150\n",
            "768/768 [==============================] - 0s 568us/step - loss: 0.8110 - acc: 0.6510\n",
            "Epoch 99/150\n",
            "768/768 [==============================] - 0s 641us/step - loss: 0.8084 - acc: 0.6510\n",
            "Epoch 100/150\n",
            "768/768 [==============================] - 0s 596us/step - loss: 0.8054 - acc: 0.6510\n",
            "Epoch 101/150\n",
            "768/768 [==============================] - 0s 597us/step - loss: 0.8023 - acc: 0.6510\n",
            "Epoch 102/150\n",
            "768/768 [==============================] - 0s 590us/step - loss: 0.7991 - acc: 0.6510\n",
            "Epoch 103/150\n",
            "768/768 [==============================] - 0s 614us/step - loss: 0.7962 - acc: 0.6510\n",
            "Epoch 104/150\n",
            "768/768 [==============================] - 0s 641us/step - loss: 0.7932 - acc: 0.6510\n",
            "Epoch 105/150\n",
            "768/768 [==============================] - 0s 610us/step - loss: 0.7904 - acc: 0.6510\n",
            "Epoch 106/150\n",
            "768/768 [==============================] - 0s 590us/step - loss: 0.7875 - acc: 0.6510\n",
            "Epoch 107/150\n",
            "768/768 [==============================] - 0s 603us/step - loss: 0.7857 - acc: 0.6510\n",
            "Epoch 108/150\n",
            "768/768 [==============================] - 0s 600us/step - loss: 0.7836 - acc: 0.6510\n",
            "Epoch 109/150\n",
            "768/768 [==============================] - 0s 600us/step - loss: 0.7806 - acc: 0.6510\n",
            "Epoch 110/150\n",
            "768/768 [==============================] - 0s 610us/step - loss: 0.7779 - acc: 0.6510\n",
            "Epoch 111/150\n",
            "768/768 [==============================] - 0s 606us/step - loss: 0.7754 - acc: 0.6510\n",
            "Epoch 112/150\n",
            "768/768 [==============================] - 0s 615us/step - loss: 0.7725 - acc: 0.6510\n",
            "Epoch 113/150\n",
            "768/768 [==============================] - 0s 606us/step - loss: 0.7699 - acc: 0.6510\n",
            "Epoch 114/150\n",
            "768/768 [==============================] - 0s 605us/step - loss: 0.7676 - acc: 0.6510\n",
            "Epoch 115/150\n",
            "768/768 [==============================] - 0s 577us/step - loss: 0.7652 - acc: 0.6510\n",
            "Epoch 116/150\n",
            "768/768 [==============================] - 0s 593us/step - loss: 0.7637 - acc: 0.6510\n",
            "Epoch 117/150\n",
            "768/768 [==============================] - 0s 595us/step - loss: 0.7623 - acc: 0.6510\n",
            "Epoch 118/150\n",
            "768/768 [==============================] - 0s 588us/step - loss: 0.7602 - acc: 0.6510\n",
            "Epoch 119/150\n",
            "768/768 [==============================] - 0s 618us/step - loss: 0.7574 - acc: 0.6510\n",
            "Epoch 120/150\n",
            "768/768 [==============================] - 0s 568us/step - loss: 0.7549 - acc: 0.6510\n",
            "Epoch 121/150\n",
            "768/768 [==============================] - 0s 611us/step - loss: 0.7526 - acc: 0.6510\n",
            "Epoch 122/150\n",
            "768/768 [==============================] - 0s 578us/step - loss: 0.7505 - acc: 0.6510\n",
            "Epoch 123/150\n",
            "768/768 [==============================] - 0s 594us/step - loss: 0.7487 - acc: 0.6510\n",
            "Epoch 124/150\n",
            "768/768 [==============================] - 0s 594us/step - loss: 0.7468 - acc: 0.6510\n",
            "Epoch 125/150\n",
            "768/768 [==============================] - 0s 604us/step - loss: 0.7453 - acc: 0.6510\n",
            "Epoch 126/150\n",
            "768/768 [==============================] - 0s 601us/step - loss: 0.7451 - acc: 0.6510\n",
            "Epoch 127/150\n",
            "768/768 [==============================] - 0s 592us/step - loss: 0.7433 - acc: 0.6510\n",
            "Epoch 128/150\n",
            "768/768 [==============================] - 0s 581us/step - loss: 0.7418 - acc: 0.6510\n",
            "Epoch 129/150\n",
            "768/768 [==============================] - 0s 588us/step - loss: 0.7408 - acc: 0.6510\n",
            "Epoch 130/150\n",
            "768/768 [==============================] - 0s 605us/step - loss: 0.7392 - acc: 0.6510\n",
            "Epoch 131/150\n",
            "768/768 [==============================] - 0s 591us/step - loss: 0.7379 - acc: 0.6510\n",
            "Epoch 132/150\n",
            "768/768 [==============================] - 0s 596us/step - loss: 0.7384 - acc: 0.6510\n",
            "Epoch 133/150\n",
            "768/768 [==============================] - 0s 585us/step - loss: 0.7368 - acc: 0.6510\n",
            "Epoch 134/150\n",
            "768/768 [==============================] - 0s 619us/step - loss: 0.7354 - acc: 0.6510\n",
            "Epoch 135/150\n",
            "768/768 [==============================] - 0s 590us/step - loss: 0.7338 - acc: 0.6510\n",
            "Epoch 136/150\n",
            "768/768 [==============================] - 0s 585us/step - loss: 0.7325 - acc: 0.6510\n",
            "Epoch 137/150\n",
            "768/768 [==============================] - 0s 604us/step - loss: 0.7323 - acc: 0.6510\n",
            "Epoch 138/150\n",
            "768/768 [==============================] - 0s 593us/step - loss: 0.7314 - acc: 0.6510\n",
            "Epoch 139/150\n",
            "768/768 [==============================] - 0s 624us/step - loss: 0.7312 - acc: 0.6510\n",
            "Epoch 140/150\n",
            "768/768 [==============================] - 0s 577us/step - loss: 0.7316 - acc: 0.6510\n",
            "Epoch 141/150\n",
            "768/768 [==============================] - 0s 604us/step - loss: 0.7302 - acc: 0.6510\n",
            "Epoch 142/150\n",
            "768/768 [==============================] - 0s 603us/step - loss: 0.7293 - acc: 0.6510\n",
            "Epoch 143/150\n",
            "768/768 [==============================] - 0s 583us/step - loss: 0.7282 - acc: 0.6510\n",
            "Epoch 144/150\n",
            "768/768 [==============================] - 0s 593us/step - loss: 0.7282 - acc: 0.6510\n",
            "Epoch 145/150\n",
            "768/768 [==============================] - 0s 612us/step - loss: 0.7267 - acc: 0.6510\n",
            "Epoch 146/150\n",
            "768/768 [==============================] - 0s 609us/step - loss: 0.7253 - acc: 0.6510\n",
            "Epoch 147/150\n",
            "768/768 [==============================] - 0s 623us/step - loss: 0.7238 - acc: 0.6510\n",
            "Epoch 148/150\n",
            "768/768 [==============================] - 0s 609us/step - loss: 0.7231 - acc: 0.6510\n",
            "Epoch 149/150\n",
            "768/768 [==============================] - 0s 592us/step - loss: 0.7222 - acc: 0.6510\n",
            "Epoch 150/150\n",
            "768/768 [==============================] - 0s 649us/step - loss: 0.7218 - acc: 0.6510\n"
          ],
          "name": "stdout"
        },
        {
          "output_type": "execute_result",
          "data": {
            "text/plain": [
              "<keras.callbacks.History at 0x7f671195e748>"
            ]
          },
          "metadata": {
            "tags": []
          },
          "execution_count": 5
        }
      ]
    },
    {
      "cell_type": "markdown",
      "metadata": {
        "id": "OYOV62LqtUMY",
        "colab_type": "text"
      },
      "source": [
        "#Evaluate Keras Model"
      ]
    },
    {
      "cell_type": "code",
      "metadata": {
        "id": "EvnxnPIgtWWh",
        "colab_type": "code",
        "outputId": "cbafb9f7-bc71-42e7-f84b-75ccb0616453",
        "colab": {
          "base_uri": "https://localhost:8080/",
          "height": 51
        }
      },
      "source": [
        "# evaluate the keras model\n",
        "_, accuracy = model.evaluate(X, y)\n",
        "print('Accuracy: %.2f' % (accuracy*100))"
      ],
      "execution_count": 0,
      "outputs": [
        {
          "output_type": "stream",
          "text": [
            "768/768 [==============================] - 0s 168us/step\n",
            "Accuracy: 65.10\n"
          ],
          "name": "stdout"
        }
      ]
    },
    {
      "cell_type": "markdown",
      "metadata": {
        "id": "jXn6vvh3uhya",
        "colab_type": "text"
      },
      "source": [
        "#Thank you for completing this notebook"
      ]
    }
  ]
}