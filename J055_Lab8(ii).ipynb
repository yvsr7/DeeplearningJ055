{
  "nbformat": 4,
  "nbformat_minor": 0,
  "metadata": {
    "colab": {
      "name": "J055_Lab8(ii).ipynb",
      "provenance": [],
      "collapsed_sections": [],
      "include_colab_link": true
    },
    "kernelspec": {
      "name": "python3",
      "display_name": "Python 3"
    },
    "accelerator": "GPU"
  },
  "cells": [
    {
      "cell_type": "markdown",
      "metadata": {
        "id": "view-in-github",
        "colab_type": "text"
      },
      "source": [
        "<a href=\"https://colab.research.google.com/github/yvsr7/DeeplearningJ055/blob/master/J055_Lab8(ii).ipynb\" target=\"_parent\"><img src=\"https://colab.research.google.com/assets/colab-badge.svg\" alt=\"Open In Colab\"/></a>"
      ]
    },
    {
      "cell_type": "markdown",
      "metadata": {
        "id": "-1DzPAqft6mM",
        "colab_type": "text"
      },
      "source": [
        "#Callbacks\n",
        "\n",
        "Deep learning models can take hours, days or even weeks to train.\n",
        "\n",
        "If the run is stopped unexpectedly, you can lose a lot of work.\n",
        "\n",
        "In this post you will discover how you can check-point your deep learning models during training in Python using the Keras library."
      ]
    },
    {
      "cell_type": "code",
      "metadata": {
        "id": "9Qi36pHUtjWZ",
        "colab_type": "code",
        "outputId": "e2af82a2-885a-41cd-a48b-ad2d68f0022b",
        "colab": {
          "base_uri": "https://localhost:8080/",
          "height": 1000
        }
      },
      "source": [
        "import keras\n",
        "from keras import models\n",
        "from keras.layers import Dense, Dropout\n",
        "from keras.utils import to_categorical\n",
        "from keras.datasets import mnist\n",
        "from keras.utils.vis_utils import model_to_dot\n",
        "from IPython.display import SVG\n",
        "from keras.callbacks import ModelCheckpoint\n",
        "\n",
        "NUM_ROWS = 28\n",
        "NUM_COLS = 28\n",
        "NUM_CLASSES = 10\n",
        "BATCH_SIZE = 128\n",
        "EPOCHS = 10\n",
        "\n",
        "# Load data\n",
        "(X_train, y_train), (X_test, y_test) = mnist.load_data()\n",
        "\n",
        "# Reshape data\n",
        "X_train = X_train.reshape((X_train.shape[0], NUM_ROWS * NUM_COLS))\n",
        "X_train = X_train.astype('float32') / 255\n",
        "X_test = X_test.reshape((X_test.shape[0], NUM_ROWS * NUM_COLS))\n",
        "X_test = X_test.astype('float32') / 255\n",
        "\n",
        "# Categorically encode labels\n",
        "y_train = to_categorical(y_train, NUM_CLASSES)\n",
        "y_test = to_categorical(y_test, NUM_CLASSES)\n",
        "\n",
        "\n",
        "# Build neural network\n",
        "model = models.Sequential()\n",
        "model.add(Dense(512, activation='elu', input_shape=(NUM_ROWS * NUM_COLS,)))\n",
        "model.add(Dense(256, activation='elu'))\n",
        "model.add(Dense(10, activation='softmax'))\n",
        "\n",
        "# Compile model\n",
        "model.compile(optimizer='rmsprop',\n",
        "              loss='categorical_crossentropy',\n",
        "              metrics=['accuracy'])\n",
        "\n",
        "\n",
        "\n",
        "# checkpoint\n",
        "filepath=\"weights-improvement-{epoch:02d}-{val_acc:.2f}.hdf5\"\n",
        "checkpoint = ModelCheckpoint(filepath, monitor='val_acc', verbose=1, save_best_only=True, mode='max')\n",
        "callbacks_list = [checkpoint]\n",
        "\n",
        "\n",
        "# Train model\n",
        "model.fit(X_train, y_train,\n",
        "          batch_size=BATCH_SIZE,\n",
        "          epochs=EPOCHS,\n",
        "          verbose=1,\n",
        "          validation_data=(X_test, y_test), callbacks=callbacks_list)\n",
        "\n",
        "\n"
      ],
      "execution_count": 0,
      "outputs": [
        {
          "output_type": "stream",
          "text": [
            "Using TensorFlow backend.\n"
          ],
          "name": "stderr"
        },
        {
          "output_type": "display_data",
          "data": {
            "text/html": [
              "<p style=\"color: red;\">\n",
              "The default version of TensorFlow in Colab will soon switch to TensorFlow 2.x.<br>\n",
              "We recommend you <a href=\"https://www.tensorflow.org/guide/migrate\" target=\"_blank\">upgrade</a> now \n",
              "or ensure your notebook will continue to use TensorFlow 1.x via the <code>%tensorflow_version 1.x</code> magic:\n",
              "<a href=\"https://colab.research.google.com/notebooks/tensorflow_version.ipynb\" target=\"_blank\">more info</a>.</p>\n"
            ],
            "text/plain": [
              "<IPython.core.display.HTML object>"
            ]
          },
          "metadata": {
            "tags": []
          }
        },
        {
          "output_type": "stream",
          "text": [
            "Downloading data from https://s3.amazonaws.com/img-datasets/mnist.npz\n",
            "11493376/11490434 [==============================] - 1s 0us/step\n",
            "WARNING:tensorflow:From /usr/local/lib/python3.6/dist-packages/keras/backend/tensorflow_backend.py:66: The name tf.get_default_graph is deprecated. Please use tf.compat.v1.get_default_graph instead.\n",
            "\n",
            "WARNING:tensorflow:From /usr/local/lib/python3.6/dist-packages/keras/backend/tensorflow_backend.py:541: The name tf.placeholder is deprecated. Please use tf.compat.v1.placeholder instead.\n",
            "\n",
            "WARNING:tensorflow:From /usr/local/lib/python3.6/dist-packages/keras/backend/tensorflow_backend.py:4432: The name tf.random_uniform is deprecated. Please use tf.random.uniform instead.\n",
            "\n",
            "WARNING:tensorflow:From /usr/local/lib/python3.6/dist-packages/keras/optimizers.py:793: The name tf.train.Optimizer is deprecated. Please use tf.compat.v1.train.Optimizer instead.\n",
            "\n",
            "WARNING:tensorflow:From /usr/local/lib/python3.6/dist-packages/keras/backend/tensorflow_backend.py:3576: The name tf.log is deprecated. Please use tf.math.log instead.\n",
            "\n",
            "WARNING:tensorflow:From /usr/local/lib/python3.6/dist-packages/tensorflow_core/python/ops/math_grad.py:1424: where (from tensorflow.python.ops.array_ops) is deprecated and will be removed in a future version.\n",
            "Instructions for updating:\n",
            "Use tf.where in 2.0, which has the same broadcast rule as np.where\n",
            "WARNING:tensorflow:From /usr/local/lib/python3.6/dist-packages/keras/backend/tensorflow_backend.py:1033: The name tf.assign_add is deprecated. Please use tf.compat.v1.assign_add instead.\n",
            "\n",
            "WARNING:tensorflow:From /usr/local/lib/python3.6/dist-packages/keras/backend/tensorflow_backend.py:1020: The name tf.assign is deprecated. Please use tf.compat.v1.assign instead.\n",
            "\n",
            "WARNING:tensorflow:From /usr/local/lib/python3.6/dist-packages/keras/backend/tensorflow_backend.py:3005: The name tf.Session is deprecated. Please use tf.compat.v1.Session instead.\n",
            "\n",
            "Train on 60000 samples, validate on 10000 samples\n",
            "Epoch 1/10\n",
            "WARNING:tensorflow:From /usr/local/lib/python3.6/dist-packages/keras/backend/tensorflow_backend.py:190: The name tf.get_default_session is deprecated. Please use tf.compat.v1.get_default_session instead.\n",
            "\n",
            "WARNING:tensorflow:From /usr/local/lib/python3.6/dist-packages/keras/backend/tensorflow_backend.py:197: The name tf.ConfigProto is deprecated. Please use tf.compat.v1.ConfigProto instead.\n",
            "\n",
            "WARNING:tensorflow:From /usr/local/lib/python3.6/dist-packages/keras/backend/tensorflow_backend.py:207: The name tf.global_variables is deprecated. Please use tf.compat.v1.global_variables instead.\n",
            "\n",
            "WARNING:tensorflow:From /usr/local/lib/python3.6/dist-packages/keras/backend/tensorflow_backend.py:216: The name tf.is_variable_initialized is deprecated. Please use tf.compat.v1.is_variable_initialized instead.\n",
            "\n",
            "WARNING:tensorflow:From /usr/local/lib/python3.6/dist-packages/keras/backend/tensorflow_backend.py:223: The name tf.variables_initializer is deprecated. Please use tf.compat.v1.variables_initializer instead.\n",
            "\n",
            "60000/60000 [==============================] - 11s 181us/step - loss: 0.2934 - acc: 0.9100 - val_loss: 0.1463 - val_acc: 0.9577\n",
            "\n",
            "Epoch 00001: val_acc improved from -inf to 0.95770, saving model to weights-improvement-01-0.96.hdf5\n",
            "Epoch 2/10\n",
            "60000/60000 [==============================] - 2s 28us/step - loss: 0.1218 - acc: 0.9620 - val_loss: 0.1106 - val_acc: 0.9647\n",
            "\n",
            "Epoch 00002: val_acc improved from 0.95770 to 0.96470, saving model to weights-improvement-02-0.96.hdf5\n",
            "Epoch 3/10\n",
            "60000/60000 [==============================] - 2s 28us/step - loss: 0.0825 - acc: 0.9743 - val_loss: 0.0940 - val_acc: 0.9708\n",
            "\n",
            "Epoch 00003: val_acc improved from 0.96470 to 0.97080, saving model to weights-improvement-03-0.97.hdf5\n",
            "Epoch 4/10\n",
            "60000/60000 [==============================] - 2s 29us/step - loss: 0.0640 - acc: 0.9801 - val_loss: 0.1154 - val_acc: 0.9627\n",
            "\n",
            "Epoch 00004: val_acc did not improve from 0.97080\n",
            "Epoch 5/10\n",
            "60000/60000 [==============================] - 2s 29us/step - loss: 0.0496 - acc: 0.9842 - val_loss: 0.0702 - val_acc: 0.9791\n",
            "\n",
            "Epoch 00005: val_acc improved from 0.97080 to 0.97910, saving model to weights-improvement-05-0.98.hdf5\n",
            "Epoch 6/10\n",
            "60000/60000 [==============================] - 2s 28us/step - loss: 0.0407 - acc: 0.9872 - val_loss: 0.0892 - val_acc: 0.9768\n",
            "\n",
            "Epoch 00006: val_acc did not improve from 0.97910\n",
            "Epoch 7/10\n",
            "60000/60000 [==============================] - 2s 27us/step - loss: 0.0328 - acc: 0.9891 - val_loss: 0.0928 - val_acc: 0.9769\n",
            "\n",
            "Epoch 00007: val_acc did not improve from 0.97910\n",
            "Epoch 8/10\n",
            "60000/60000 [==============================] - 2s 29us/step - loss: 0.0285 - acc: 0.9907 - val_loss: 0.0956 - val_acc: 0.9768\n",
            "\n",
            "Epoch 00008: val_acc did not improve from 0.97910\n",
            "Epoch 9/10\n",
            "60000/60000 [==============================] - 2s 29us/step - loss: 0.0230 - acc: 0.9925 - val_loss: 0.1026 - val_acc: 0.9754\n",
            "\n",
            "Epoch 00009: val_acc did not improve from 0.97910\n",
            "Epoch 10/10\n",
            "60000/60000 [==============================] - 2s 28us/step - loss: 0.0207 - acc: 0.9933 - val_loss: 0.0871 - val_acc: 0.9806\n",
            "\n",
            "Epoch 00010: val_acc improved from 0.97910 to 0.98060, saving model to weights-improvement-10-0.98.hdf5\n"
          ],
          "name": "stdout"
        },
        {
          "output_type": "execute_result",
          "data": {
            "text/plain": [
              "<keras.callbacks.History at 0x7fa06ded5f98>"
            ]
          },
          "metadata": {
            "tags": []
          },
          "execution_count": 1
        }
      ]
    },
    {
      "cell_type": "markdown",
      "metadata": {
        "id": "Jveut6hlv4vM",
        "colab_type": "text"
      },
      "source": [
        "#Create checkpoint for storing best model only\n",
        "\n",
        "A simpler check-point strategy is to save the model weights to the same file, if and only if the validation accuracy improves.\n",
        "\n",
        "This can be done easily using the same code from above and changing the output filename to be fixed (not include score or epoch information).\n",
        "\n",
        "In this case, model weights are written to the file “weights.best.hdf5” only if the classification accuracy of the model on the validation dataset improves over the best seen so far."
      ]
    },
    {
      "cell_type": "code",
      "metadata": {
        "id": "4SoNDAjwwAX5",
        "colab_type": "code",
        "outputId": "6ea553dc-f3e4-4d61-d735-6994a7b58a44",
        "colab": {
          "base_uri": "https://localhost:8080/",
          "height": 731
        }
      },
      "source": [
        "import keras\n",
        "from keras import models\n",
        "from keras.layers import Dense, Dropout\n",
        "from keras.utils import to_categorical\n",
        "from keras.datasets import mnist\n",
        "from keras.utils.vis_utils import model_to_dot\n",
        "from IPython.display import SVG\n",
        "from keras.callbacks import ModelCheckpoint\n",
        "\n",
        "NUM_ROWS = 28\n",
        "NUM_COLS = 28\n",
        "NUM_CLASSES = 10\n",
        "BATCH_SIZE = 128\n",
        "EPOCHS = 10\n",
        "\n",
        "# Load data\n",
        "(X_train, y_train), (X_test, y_test) = mnist.load_data()\n",
        "\n",
        "# Reshape data\n",
        "X_train = X_train.reshape((X_train.shape[0], NUM_ROWS * NUM_COLS))\n",
        "X_train = X_train.astype('float32') / 255\n",
        "X_test = X_test.reshape((X_test.shape[0], NUM_ROWS * NUM_COLS))\n",
        "X_test = X_test.astype('float32') / 255\n",
        "\n",
        "# Categorically encode labels\n",
        "y_train = to_categorical(y_train, NUM_CLASSES)\n",
        "y_test = to_categorical(y_test, NUM_CLASSES)\n",
        "\n",
        "\n",
        "# Build neural network\n",
        "model = models.Sequential()\n",
        "model.add(Dense(512, activation='elu', input_shape=(NUM_ROWS * NUM_COLS,)))\n",
        "model.add(Dense(256, activation='elu'))\n",
        "model.add(Dense(10, activation='softmax'))\n",
        "\n",
        "# Compile model\n",
        "model.compile(optimizer='rmsprop',\n",
        "              loss='categorical_crossentropy',\n",
        "              metrics=['accuracy'])\n",
        "\n",
        "\n",
        "\n",
        "# checkpoint\n",
        "filepath=\"weights.best.hdf5\"\n",
        "checkpoint = ModelCheckpoint(filepath, monitor='val_acc', verbose=1, save_best_only=True, mode='max')\n",
        "callbacks_list = [checkpoint]\n",
        "\n",
        "\n",
        "# Train model\n",
        "model.fit(X_train, y_train,\n",
        "          batch_size=BATCH_SIZE,\n",
        "          epochs=EPOCHS,\n",
        "          verbose=1,\n",
        "          validation_data=(X_test, y_test), callbacks=callbacks_list)\n",
        "\n",
        "\n"
      ],
      "execution_count": 0,
      "outputs": [
        {
          "output_type": "stream",
          "text": [
            "Train on 60000 samples, validate on 10000 samples\n",
            "Epoch 1/10\n",
            "60000/60000 [==============================] - 2s 31us/step - loss: 0.2867 - acc: 0.9141 - val_loss: 0.1584 - val_acc: 0.9504\n",
            "\n",
            "Epoch 00001: val_acc improved from -inf to 0.95040, saving model to weights.best.hdf5\n",
            "Epoch 2/10\n",
            "60000/60000 [==============================] - 2s 28us/step - loss: 0.1217 - acc: 0.9619 - val_loss: 0.1348 - val_acc: 0.9557\n",
            "\n",
            "Epoch 00002: val_acc improved from 0.95040 to 0.95570, saving model to weights.best.hdf5\n",
            "Epoch 3/10\n",
            "60000/60000 [==============================] - 2s 28us/step - loss: 0.0816 - acc: 0.9748 - val_loss: 0.0938 - val_acc: 0.9717\n",
            "\n",
            "Epoch 00003: val_acc improved from 0.95570 to 0.97170, saving model to weights.best.hdf5\n",
            "Epoch 4/10\n",
            "60000/60000 [==============================] - 2s 29us/step - loss: 0.0638 - acc: 0.9803 - val_loss: 0.1134 - val_acc: 0.9664\n",
            "\n",
            "Epoch 00004: val_acc did not improve from 0.97170\n",
            "Epoch 5/10\n",
            "60000/60000 [==============================] - 2s 28us/step - loss: 0.0523 - acc: 0.9833 - val_loss: 0.0772 - val_acc: 0.9786\n",
            "\n",
            "Epoch 00005: val_acc improved from 0.97170 to 0.97860, saving model to weights.best.hdf5\n",
            "Epoch 6/10\n",
            "60000/60000 [==============================] - 2s 28us/step - loss: 0.0413 - acc: 0.9866 - val_loss: 0.0744 - val_acc: 0.9802\n",
            "\n",
            "Epoch 00006: val_acc improved from 0.97860 to 0.98020, saving model to weights.best.hdf5\n",
            "Epoch 7/10\n",
            "60000/60000 [==============================] - 2s 27us/step - loss: 0.0337 - acc: 0.9891 - val_loss: 0.0868 - val_acc: 0.9766\n",
            "\n",
            "Epoch 00007: val_acc did not improve from 0.98020\n",
            "Epoch 8/10\n",
            "60000/60000 [==============================] - 2s 28us/step - loss: 0.0287 - acc: 0.9905 - val_loss: 0.0837 - val_acc: 0.9802\n",
            "\n",
            "Epoch 00008: val_acc did not improve from 0.98020\n",
            "Epoch 9/10\n",
            "60000/60000 [==============================] - 2s 28us/step - loss: 0.0234 - acc: 0.9921 - val_loss: 0.0894 - val_acc: 0.9793\n",
            "\n",
            "Epoch 00009: val_acc did not improve from 0.98020\n",
            "Epoch 10/10\n",
            "60000/60000 [==============================] - 2s 28us/step - loss: 0.0194 - acc: 0.9938 - val_loss: 0.0992 - val_acc: 0.9786\n",
            "\n",
            "Epoch 00010: val_acc did not improve from 0.98020\n"
          ],
          "name": "stdout"
        },
        {
          "output_type": "execute_result",
          "data": {
            "text/plain": [
              "<keras.callbacks.History at 0x7fa060603630>"
            ]
          },
          "metadata": {
            "tags": []
          },
          "execution_count": 2
        }
      ]
    },
    {
      "cell_type": "markdown",
      "metadata": {
        "id": "my7CaRnYwPsC",
        "colab_type": "text"
      },
      "source": [
        "#Loading a Check-Pointed Neural Network Model\n",
        "\n",
        "After the model is saved , we can use it to make predictions"
      ]
    },
    {
      "cell_type": "code",
      "metadata": {
        "id": "eyuYyP-XwhdP",
        "colab_type": "code",
        "outputId": "df6e87ef-fdfa-4924-da52-756161fe9c94",
        "colab": {
          "base_uri": "https://localhost:8080/",
          "height": 34
        }
      },
      "source": [
        "import numpy as np\n",
        "import keras\n",
        "from keras import models\n",
        "#Create new model\n",
        "model_new = models.Sequential()\n",
        "model_new.add(Dense(512, activation='elu', input_shape=(NUM_ROWS * NUM_COLS,)))\n",
        "model_new.add(Dense(256, activation='elu'))\n",
        "model_new.add(Dense(10, activation='softmax'))\n",
        "\n",
        "model_new.load_weights(\"weights.best.hdf5\")\n",
        "\n",
        "# Compile model\n",
        "model_new.compile(optimizer='rmsprop',\n",
        "              loss='categorical_crossentropy',\n",
        "              metrics=['accuracy'])\n",
        "\n",
        "X_total=np.concatenate((X_train,X_test))\n",
        "y_total=np.concatenate((y_train,y_test))\n",
        "\n",
        "scores = model_new.evaluate(X_total, y_total, verbose=0)\n",
        "print(\"%s: %.2f%%\" % (model_new.metrics_names[1], scores[1]*100))"
      ],
      "execution_count": 0,
      "outputs": [
        {
          "output_type": "stream",
          "text": [
            "acc: 99.05%\n"
          ],
          "name": "stdout"
        }
      ]
    },
    {
      "cell_type": "markdown",
      "metadata": {
        "id": "mMNmXQvYz-O_",
        "colab_type": "text"
      },
      "source": [
        "#Thank you for completing this notebook\n"
      ]
    },
    {
      "cell_type": "markdown",
      "metadata": {
        "id": "95yHr6oxYOev",
        "colab_type": "text"
      },
      "source": [
        "##Fashion MNIST"
      ]
    },
    {
      "cell_type": "code",
      "metadata": {
        "id": "8ftVrUHRYNa1",
        "colab_type": "code",
        "outputId": "6d655a61-7630-49c6-e82e-344138e5b3ee",
        "colab": {
          "base_uri": "https://localhost:8080/",
          "height": 731
        }
      },
      "source": [
        "import keras\n",
        "from keras import models\n",
        "from keras.layers import Dense, Dropout\n",
        "from keras.utils import to_categorical\n",
        "from keras.datasets import fashion_mnist\n",
        "from keras.utils.vis_utils import model_to_dot\n",
        "from IPython.display import SVG\n",
        "\n",
        "NUM_ROWS = 28\n",
        "NUM_COLS = 28\n",
        "NUM_CLASSES = 10\n",
        "BATCH_SIZE = 128\n",
        "EPOCHS = 10\n",
        "\n",
        "# Load data\n",
        "(X_train, Y_train), (X_test, Y_test) = fashion_mnist.load_data()\n",
        "\n",
        "\n",
        "\n",
        "# Reshape data\n",
        "X_train = X_train.reshape((X_train.shape[0], NUM_ROWS * NUM_COLS))\n",
        "X_train = X_train.astype('float32') / 255\n",
        "X_test = X_test.reshape((X_test.shape[0], NUM_ROWS * NUM_COLS))\n",
        "X_test = X_test.astype('float32') / 255\n",
        "\n",
        "# Categorically encode labels\n",
        "Y_train = to_categorical(Y_train, NUM_CLASSES)\n",
        "Y_test = to_categorical(Y_test, NUM_CLASSES)\n",
        "\n",
        "\n",
        "# Build neural network\n",
        "model = models.Sequential()\n",
        "model.add(Dense(512, activation='relu', input_shape=(NUM_ROWS * NUM_COLS,)))\n",
        "model.add(Dense(256, activation='relu'))\n",
        "model.add(Dense(10, activation='softmax'))\n",
        "\n",
        "# Compile model using above optimizer\n",
        "model.compile(optimizer='rmsprop',\n",
        "              loss='categorical_crossentropy',\n",
        "              metrics=['accuracy'])\n",
        "\n",
        "filepath=\"weights.best.hdf5\"\n",
        "checkpoint = ModelCheckpoint(filepath, monitor='val_acc', verbose=1, save_best_only=True, mode='max')\n",
        "callbacks_list = [checkpoint]\n",
        "\n",
        "model.fit(X_train, Y_train,\n",
        "          batch_size=BATCH_SIZE,\n",
        "          epochs=EPOCHS,\n",
        "          verbose=1,\n",
        "          validation_data=(X_test, Y_test), callbacks=callbacks_list)"
      ],
      "execution_count": 0,
      "outputs": [
        {
          "output_type": "stream",
          "text": [
            "Train on 60000 samples, validate on 10000 samples\n",
            "Epoch 1/10\n",
            "60000/60000 [==============================] - 2s 31us/step - loss: 0.5445 - acc: 0.8035 - val_loss: 0.4437 - val_acc: 0.8429\n",
            "\n",
            "Epoch 00001: val_acc improved from -inf to 0.84290, saving model to weights.best.hdf5\n",
            "Epoch 2/10\n",
            "60000/60000 [==============================] - 2s 27us/step - loss: 0.3764 - acc: 0.8609 - val_loss: 0.4519 - val_acc: 0.8298\n",
            "\n",
            "Epoch 00002: val_acc did not improve from 0.84290\n",
            "Epoch 3/10\n",
            "60000/60000 [==============================] - 2s 28us/step - loss: 0.3337 - acc: 0.8762 - val_loss: 0.4075 - val_acc: 0.8553\n",
            "\n",
            "Epoch 00003: val_acc improved from 0.84290 to 0.85530, saving model to weights.best.hdf5\n",
            "Epoch 4/10\n",
            "60000/60000 [==============================] - 2s 28us/step - loss: 0.3097 - acc: 0.8855 - val_loss: 0.3815 - val_acc: 0.8615\n",
            "\n",
            "Epoch 00004: val_acc improved from 0.85530 to 0.86150, saving model to weights.best.hdf5\n",
            "Epoch 5/10\n",
            "60000/60000 [==============================] - 2s 28us/step - loss: 0.2926 - acc: 0.8914 - val_loss: 0.3675 - val_acc: 0.8701\n",
            "\n",
            "Epoch 00005: val_acc improved from 0.86150 to 0.87010, saving model to weights.best.hdf5\n",
            "Epoch 6/10\n",
            "60000/60000 [==============================] - 2s 28us/step - loss: 0.2793 - acc: 0.8963 - val_loss: 0.3341 - val_acc: 0.8874\n",
            "\n",
            "Epoch 00006: val_acc improved from 0.87010 to 0.88740, saving model to weights.best.hdf5\n",
            "Epoch 7/10\n",
            "60000/60000 [==============================] - 2s 27us/step - loss: 0.2694 - acc: 0.9013 - val_loss: 0.3472 - val_acc: 0.8782\n",
            "\n",
            "Epoch 00007: val_acc did not improve from 0.88740\n",
            "Epoch 8/10\n",
            "60000/60000 [==============================] - 2s 29us/step - loss: 0.2569 - acc: 0.9045 - val_loss: 0.3621 - val_acc: 0.8787\n",
            "\n",
            "Epoch 00008: val_acc did not improve from 0.88740\n",
            "Epoch 9/10\n",
            "60000/60000 [==============================] - 2s 28us/step - loss: 0.2475 - acc: 0.9079 - val_loss: 0.3652 - val_acc: 0.8863\n",
            "\n",
            "Epoch 00009: val_acc did not improve from 0.88740\n",
            "Epoch 10/10\n",
            "60000/60000 [==============================] - 2s 29us/step - loss: 0.2396 - acc: 0.9100 - val_loss: 0.3684 - val_acc: 0.8825\n",
            "\n",
            "Epoch 00010: val_acc did not improve from 0.88740\n"
          ],
          "name": "stdout"
        },
        {
          "output_type": "execute_result",
          "data": {
            "text/plain": [
              "<keras.callbacks.History at 0x7fa0603fda58>"
            ]
          },
          "metadata": {
            "tags": []
          },
          "execution_count": 5
        }
      ]
    },
    {
      "cell_type": "markdown",
      "metadata": {
        "id": "kirpOgYXYxx9",
        "colab_type": "text"
      },
      "source": [
        "#CIFAR10"
      ]
    },
    {
      "cell_type": "code",
      "metadata": {
        "id": "t5A0ZxfOYwKM",
        "colab_type": "code",
        "outputId": "e45e9ef3-7950-45f2-962c-59fcee8c67cc",
        "colab": {
          "base_uri": "https://localhost:8080/",
          "height": 765
        }
      },
      "source": [
        "from keras.datasets import cifar10\n",
        "from keras.models import Sequential\n",
        "from keras.layers import Dense, Dropout, Activation, Flatten\n",
        "from keras.utils import to_categorical\n",
        "\n",
        "#import dataset\n",
        "(X_train, Y_train), (X_test, Y_test) = cifar10.load_data()\n",
        "\n",
        "#change shape from image to vector\n",
        "X_train = X_train.reshape(50000, 32 * 32 * 3)\n",
        "X_test = X_test.reshape(10000, 32 * 32 * 3)\n",
        "\n",
        "#preprocess\n",
        "X_train = X_train.astype('float32')\n",
        "X_test = X_test.astype('float32')\n",
        "X_train /= 255.0\n",
        "X_test /= 255.0\n",
        "\n",
        "#change labels from numeric to one hot encoded\n",
        "Y_train = to_categorical(Y_train, 10)\n",
        "Y_test =  to_categorical(Y_test, 10)\n",
        "\n",
        "#Model building\n",
        "model = Sequential()\n",
        "model.add(Dense(1024, input_shape=(3072, )))\n",
        "model.add(Activation('relu'))\n",
        "model.add(Dense(512))\n",
        "model.add(Activation('relu'))\n",
        "model.add(Dense(512))\n",
        "model.add(Activation('relu'))\n",
        "model.add(Dense(10))\n",
        "model.add(Activation('softmax'))\n",
        "\n",
        "# Compile model using above optimizer\n",
        "model.compile(optimizer='rmsprop',\n",
        "              loss='categorical_crossentropy',\n",
        "              metrics=['accuracy'])\n",
        "\n",
        "filepath=\"weights.best.hdf5\"\n",
        "checkpoint = ModelCheckpoint(filepath, monitor='val_acc', verbose=1, save_best_only=True, mode='max')\n",
        "callbacks_list = [checkpoint]\n",
        "\n",
        "model.fit(X_train, Y_train,\n",
        "          batch_size=BATCH_SIZE,\n",
        "          epochs=EPOCHS,\n",
        "          verbose=1,\n",
        "          validation_data=(X_test, Y_test), callbacks=callbacks_list)"
      ],
      "execution_count": 0,
      "outputs": [
        {
          "output_type": "stream",
          "text": [
            "Downloading data from https://www.cs.toronto.edu/~kriz/cifar-10-python.tar.gz\n",
            "170500096/170498071 [==============================] - 4s 0us/step\n",
            "Train on 50000 samples, validate on 10000 samples\n",
            "Epoch 1/10\n",
            "50000/50000 [==============================] - 3s 65us/step - loss: 2.6823 - acc: 0.2507 - val_loss: 1.9281 - val_acc: 0.2944\n",
            "\n",
            "Epoch 00001: val_acc improved from -inf to 0.29440, saving model to weights.best.hdf5\n",
            "Epoch 2/10\n",
            "50000/50000 [==============================] - 3s 59us/step - loss: 1.7989 - acc: 0.3532 - val_loss: 1.7744 - val_acc: 0.3692\n",
            "\n",
            "Epoch 00002: val_acc improved from 0.29440 to 0.36920, saving model to weights.best.hdf5\n",
            "Epoch 3/10\n",
            "50000/50000 [==============================] - 3s 59us/step - loss: 1.6980 - acc: 0.3901 - val_loss: 1.6885 - val_acc: 0.3985\n",
            "\n",
            "Epoch 00003: val_acc improved from 0.36920 to 0.39850, saving model to weights.best.hdf5\n",
            "Epoch 4/10\n",
            "50000/50000 [==============================] - 3s 60us/step - loss: 1.6161 - acc: 0.4201 - val_loss: 1.6043 - val_acc: 0.4155\n",
            "\n",
            "Epoch 00004: val_acc improved from 0.39850 to 0.41550, saving model to weights.best.hdf5\n",
            "Epoch 5/10\n",
            "50000/50000 [==============================] - 3s 60us/step - loss: 1.5702 - acc: 0.4388 - val_loss: 1.6110 - val_acc: 0.4242\n",
            "\n",
            "Epoch 00005: val_acc improved from 0.41550 to 0.42420, saving model to weights.best.hdf5\n",
            "Epoch 6/10\n",
            "50000/50000 [==============================] - 3s 60us/step - loss: 1.5231 - acc: 0.4562 - val_loss: 1.6172 - val_acc: 0.4219\n",
            "\n",
            "Epoch 00006: val_acc did not improve from 0.42420\n",
            "Epoch 7/10\n",
            "50000/50000 [==============================] - 3s 59us/step - loss: 1.4927 - acc: 0.4692 - val_loss: 1.5491 - val_acc: 0.4496\n",
            "\n",
            "Epoch 00007: val_acc improved from 0.42420 to 0.44960, saving model to weights.best.hdf5\n",
            "Epoch 8/10\n",
            "50000/50000 [==============================] - 3s 59us/step - loss: 1.4550 - acc: 0.4814 - val_loss: 1.4745 - val_acc: 0.4789\n",
            "\n",
            "Epoch 00008: val_acc improved from 0.44960 to 0.47890, saving model to weights.best.hdf5\n",
            "Epoch 9/10\n",
            "50000/50000 [==============================] - 3s 60us/step - loss: 1.4296 - acc: 0.4898 - val_loss: 1.7219 - val_acc: 0.3883\n",
            "\n",
            "Epoch 00009: val_acc did not improve from 0.47890\n",
            "Epoch 10/10\n",
            "50000/50000 [==============================] - 3s 59us/step - loss: 1.4106 - acc: 0.4946 - val_loss: 1.5999 - val_acc: 0.4568\n",
            "\n",
            "Epoch 00010: val_acc did not improve from 0.47890\n"
          ],
          "name": "stdout"
        },
        {
          "output_type": "execute_result",
          "data": {
            "text/plain": [
              "<keras.callbacks.History at 0x7fa060103ba8>"
            ]
          },
          "metadata": {
            "tags": []
          },
          "execution_count": 6
        }
      ]
    },
    {
      "cell_type": "markdown",
      "metadata": {
        "id": "OGf4yNRgZf2l",
        "colab_type": "text"
      },
      "source": [
        "#CIFAR 100"
      ]
    },
    {
      "cell_type": "code",
      "metadata": {
        "id": "RWkbhp_dZdbE",
        "colab_type": "code",
        "outputId": "bc6ae679-0723-486b-a8bb-6381ca7553bb",
        "colab": {
          "base_uri": "https://localhost:8080/",
          "height": 765
        }
      },
      "source": [
        "from keras.datasets import cifar100\n",
        "from keras.models import Sequential\n",
        "from keras.layers import Dense, Dropout, Activation, Flatten\n",
        "from keras.utils import to_categorical\n",
        "\n",
        "#import dataset\n",
        "(X_train, Y_train), (X_test, Y_test) = cifar100.load_data()\n",
        "\n",
        "#change shape from image to vector\n",
        "X_train = X_train.reshape(50000, 32 * 32 * 3)\n",
        "X_test = X_test.reshape(10000, 32 * 32 * 3)\n",
        "\n",
        "#preprocess\n",
        "X_train = X_train.astype('float32')\n",
        "X_test = X_test.astype('float32')\n",
        "X_train /= 255.0\n",
        "X_test /= 255.0\n",
        "\n",
        "#change labels from numeric to one hot encoded\n",
        "Y_train = to_categorical(Y_train, 100)\n",
        "Y_test =  to_categorical(Y_test, 100)\n",
        "\n",
        "#Model building\n",
        "model = Sequential()\n",
        "model.add(Dense(1024, input_shape=(3072, )))\n",
        "model.add(Activation('relu'))\n",
        "model.add(Dense(512))\n",
        "model.add(Activation('relu'))\n",
        "model.add(Dense(512))\n",
        "model.add(Activation('relu'))\n",
        "model.add(Dense(100))\n",
        "model.add(Activation('softmax'))\n",
        "\n",
        "# Compile model using above optimizer\n",
        "model.compile(optimizer='rmsprop',\n",
        "              loss='categorical_crossentropy',\n",
        "              metrics=['accuracy'])\n",
        "\n",
        "filepath=\"weights.best.hdf5\"\n",
        "checkpoint = ModelCheckpoint(filepath, monitor='val_acc', verbose=1, save_best_only=True, mode='max')\n",
        "callbacks_list = [checkpoint]\n",
        "\n",
        "model.fit(X_train, Y_train,\n",
        "          batch_size=BATCH_SIZE,\n",
        "          epochs=EPOCHS,\n",
        "          verbose=1,\n",
        "          validation_data=(X_test, Y_test), callbacks=callbacks_list)"
      ],
      "execution_count": 0,
      "outputs": [
        {
          "output_type": "stream",
          "text": [
            "Downloading data from https://www.cs.toronto.edu/~kriz/cifar-100-python.tar.gz\n",
            "169009152/169001437 [==============================] - 4s 0us/step\n",
            "Train on 50000 samples, validate on 10000 samples\n",
            "Epoch 1/10\n",
            "50000/50000 [==============================] - 3s 69us/step - loss: 4.2942 - acc: 0.0571 - val_loss: 4.3426 - val_acc: 0.0544\n",
            "\n",
            "Epoch 00001: val_acc improved from -inf to 0.05440, saving model to weights.best.hdf5\n",
            "Epoch 2/10\n",
            "50000/50000 [==============================] - 3s 59us/step - loss: 3.7930 - acc: 0.1170 - val_loss: 3.7893 - val_acc: 0.1139\n",
            "\n",
            "Epoch 00002: val_acc improved from 0.05440 to 0.11390, saving model to weights.best.hdf5\n",
            "Epoch 3/10\n",
            "50000/50000 [==============================] - 3s 59us/step - loss: 3.6056 - acc: 0.1513 - val_loss: 3.6449 - val_acc: 0.1492\n",
            "\n",
            "Epoch 00003: val_acc improved from 0.11390 to 0.14920, saving model to weights.best.hdf5\n",
            "Epoch 4/10\n",
            "50000/50000 [==============================] - 3s 59us/step - loss: 3.4709 - acc: 0.1744 - val_loss: 3.5579 - val_acc: 0.1625\n",
            "\n",
            "Epoch 00004: val_acc improved from 0.14920 to 0.16250, saving model to weights.best.hdf5\n",
            "Epoch 5/10\n",
            "50000/50000 [==============================] - 3s 61us/step - loss: 3.3699 - acc: 0.1923 - val_loss: 3.4189 - val_acc: 0.1911\n",
            "\n",
            "Epoch 00005: val_acc improved from 0.16250 to 0.19110, saving model to weights.best.hdf5\n",
            "Epoch 6/10\n",
            "50000/50000 [==============================] - 3s 59us/step - loss: 3.2770 - acc: 0.2078 - val_loss: 3.6754 - val_acc: 0.1550\n",
            "\n",
            "Epoch 00006: val_acc did not improve from 0.19110\n",
            "Epoch 7/10\n",
            "50000/50000 [==============================] - 3s 59us/step - loss: 3.1955 - acc: 0.2238 - val_loss: 3.5944 - val_acc: 0.1818\n",
            "\n",
            "Epoch 00007: val_acc did not improve from 0.19110\n",
            "Epoch 8/10\n",
            "50000/50000 [==============================] - 3s 59us/step - loss: 3.1362 - acc: 0.2381 - val_loss: 3.4735 - val_acc: 0.1939\n",
            "\n",
            "Epoch 00008: val_acc improved from 0.19110 to 0.19390, saving model to weights.best.hdf5\n",
            "Epoch 9/10\n",
            "50000/50000 [==============================] - 3s 58us/step - loss: 3.0733 - acc: 0.2491 - val_loss: 3.5045 - val_acc: 0.1944\n",
            "\n",
            "Epoch 00009: val_acc improved from 0.19390 to 0.19440, saving model to weights.best.hdf5\n",
            "Epoch 10/10\n",
            "50000/50000 [==============================] - 3s 60us/step - loss: 3.0292 - acc: 0.2561 - val_loss: 3.3965 - val_acc: 0.2126\n",
            "\n",
            "Epoch 00010: val_acc improved from 0.19440 to 0.21260, saving model to weights.best.hdf5\n"
          ],
          "name": "stdout"
        },
        {
          "output_type": "execute_result",
          "data": {
            "text/plain": [
              "<keras.callbacks.History at 0x7fa06016b7f0>"
            ]
          },
          "metadata": {
            "tags": []
          },
          "execution_count": 7
        }
      ]
    },
    {
      "cell_type": "code",
      "metadata": {
        "id": "wkKUp1aEZvDP",
        "colab_type": "code",
        "colab": {}
      },
      "source": [
        ""
      ],
      "execution_count": 0,
      "outputs": []
    }
  ]
}